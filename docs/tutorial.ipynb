{
 "cells": [
  {
   "cell_type": "code",
   "execution_count": 30,
   "metadata": {
    "collapsed": true
   },
   "outputs": [],
   "source": [
    "import numpy as np\n",
    "import sympy\n",
    "import models\n",
    "import utilities"
   ]
  },
  {
   "cell_type": "markdown",
   "metadata": {},
   "source": [
    "# Models\n",
    "`models.stochastic.StochasticModel` is a class that defines any nonlinear dynamical model influenced by stochastic noise parameters. For convenience, a number of functions in models.parasitism exist to make some simple models, including a test AR1 autoregressive model, `ar1()`; Nicholson-Bailey, `nb()`; Nicholson-Bailey with negative binomial functional response, `nbd()`; and a helper function for creating multi-patch models with constant, symmetric linear dispersal between patches, `get_model(modelstr)`. "
   ]
  },
  {
   "cell_type": "code",
   "execution_count": 10,
   "metadata": {
    "collapsed": false
   },
   "outputs": [],
   "source": [
    "model = models.parasitism.get_model(\"nbd(2)\") # Get a two-patch NBD model."
   ]
  },
  {
   "cell_type": "markdown",
   "metadata": {},
   "source": [
    "`models.stochastic.StochasticModel` contains a number of methods for solving for equilibria, deriving the linearized model, etc. For convenience, `models.parasitism.get_model` automatically solves for the equilibrium and linearization, so you can access them through their respective member variables."
   ]
  },
  {
   "cell_type": "markdown",
   "metadata": {},
   "source": [
    "### Member variables"
   ]
  },
  {
   "cell_type": "code",
   "execution_count": 16,
   "metadata": {
    "collapsed": false
   },
   "outputs": [
    {
     "data": {
      "text/plain": [
       "Matrix([\n",
       "[H^{(1)}],\n",
       "[H^{(2)}],\n",
       "[P^{(1)}],\n",
       "[P^{(2)}]])"
      ]
     },
     "execution_count": 16,
     "metadata": {},
     "output_type": "execute_result"
    }
   ],
   "source": [
    "model.vars # deterministic variables (host, parasitoid for each patch.)"
   ]
  },
  {
   "cell_type": "code",
   "execution_count": 18,
   "metadata": {
    "collapsed": false
   },
   "outputs": [
    {
     "data": {
      "text/plain": [
       "Matrix([\n",
       "[\\epsilon^{(1)}_h],\n",
       "[\\epsilon^{(2)}_h],\n",
       "[\\epsilon^{(1)}_p],\n",
       "[\\epsilon^{(2)}_p]])"
      ]
     },
     "execution_count": 18,
     "metadata": {},
     "output_type": "execute_result"
    }
   ],
   "source": [
    "model.noises # stochastic variables"
   ]
  },
  {
   "cell_type": "code",
   "execution_count": 19,
   "metadata": {
    "collapsed": false
   },
   "outputs": [
    {
     "data": {
      "text/plain": [
       "Matrix([\n",
       "[H^{(1)}*\\lambda*(-\\mu_H + 1)*(P^{(1)}*a/k + 1)**(-k) + H^{(2)}*\\lambda*\\mu_H*(P^{(2)}*a/k + 1)**(-k)/2],\n",
       "[H^{(1)}*\\lambda*\\mu_H*(P^{(1)}*a/k + 1)**(-k)/2 + H^{(2)}*\\lambda*(-\\mu_H + 1)*(P^{(2)}*a/k + 1)**(-k)],\n",
       "[H^{(1)}*c*(1 - (P^{(1)}*a/k + 1)**(-k))*(-\\mu_P + 1) + H^{(2)}*\\mu_P*c*(1 - (P^{(2)}*a/k + 1)**(-k))/2],\n",
       "[H^{(1)}*\\mu_P*c*(1 - (P^{(1)}*a/k + 1)**(-k))/2 + H^{(2)}*c*(1 - (P^{(2)}*a/k + 1)**(-k))*(-\\mu_P + 1)]])"
      ]
     },
     "execution_count": 19,
     "metadata": {},
     "output_type": "execute_result"
    }
   ],
   "source": [
    "model.deterministic # deterministic terms of the equation"
   ]
  },
  {
   "cell_type": "code",
   "execution_count": 20,
   "metadata": {
    "collapsed": false
   },
   "outputs": [
    {
     "data": {
      "text/plain": [
       "Matrix([\n",
       "[H^{(1)}*\\lambda*(-\\mu_H + 1)*(P^{(1)}*a/k + 1)**(-k)*exp(\\epsilon^{(1)}_h) + H^{(2)}*\\lambda*\\mu_H*(P^{(2)}*a/k + 1)**(-k)*exp(\\epsilon^{(2)}_h)/2],\n",
       "[H^{(1)}*\\lambda*\\mu_H*(P^{(1)}*a/k + 1)**(-k)*exp(\\epsilon^{(1)}_h)/2 + H^{(2)}*\\lambda*(-\\mu_H + 1)*(P^{(2)}*a/k + 1)**(-k)*exp(\\epsilon^{(2)}_h)],\n",
       "[H^{(1)}*c*(1 - (P^{(1)}*a/k + 1)**(-k))*(-\\mu_P + 1)*exp(\\epsilon^{(1)}_p) + H^{(2)}*\\mu_P*c*(1 - (P^{(2)}*a/k + 1)**(-k))*exp(\\epsilon^{(2)}_p)/2],\n",
       "[H^{(1)}*\\mu_P*c*(1 - (P^{(1)}*a/k + 1)**(-k))*exp(\\epsilon^{(1)}_p)/2 + H^{(2)}*c*(1 - (P^{(2)}*a/k + 1)**(-k))*(-\\mu_P + 1)*exp(\\epsilon^{(2)}_p)]])"
      ]
     },
     "execution_count": 20,
     "metadata": {},
     "output_type": "execute_result"
    }
   ],
   "source": [
    "model.stochastic # stochastic terms of the equation"
   ]
  },
  {
   "cell_type": "code",
   "execution_count": 21,
   "metadata": {
    "collapsed": false
   },
   "outputs": [
    {
     "data": {
      "text/plain": [
       "{H^{(2)}: -k*(a*(\\lambda*k**k)**(1/k))**k/(-a*a**k*c*k**k + a*c*(a*(\\lambda*k**k)**(1/k))**k) + (\\lambda*k**k)**(1/k)*(a*(\\lambda*k**k)**(1/k))**k/(-a*a**k*c*k**k + a*c*(a*(\\lambda*k**k)**(1/k))**k),\n",
       " P^{(2)}: -k/a + (\\lambda*k**k)**(1/k)/a,\n",
       " P^{(1)}: -k/a + (\\lambda*k**k)**(1/k)/a,\n",
       " H^{(1)}: -k*(a*(\\lambda*k**k)**(1/k))**k/(-a*a**k*c*k**k + a*c*(a*(\\lambda*k**k)**(1/k))**k) + (\\lambda*k**k)**(1/k)*(a*(\\lambda*k**k)**(1/k))**k/(-a*a**k*c*k**k + a*c*(a*(\\lambda*k**k)**(1/k))**k)}"
      ]
     },
     "execution_count": 21,
     "metadata": {},
     "output_type": "execute_result"
    }
   ],
   "source": [
    "model.equilibrium"
   ]
  },
  {
   "cell_type": "code",
   "execution_count": 23,
   "metadata": {
    "collapsed": false
   },
   "outputs": [
    {
     "data": {
      "text/plain": [
       "Matrix([\n",
       "[\\lambda*(-\\mu_H + 1)*(a*(-k/a + (\\lambda*k**k)**(1/k)/a)/k + 1)**(-k),      \\lambda*\\mu_H*(a*(-k/a + (\\lambda*k**k)**(1/k)/a)/k + 1)**(-k)/2, -\\lambda*a*(-\\mu_H + 1)*(a*(-k/a + (\\lambda*k**k)**(1/k)/a)/k + 1)**(-k)*(-k*(a*(\\lambda*k**k)**(1/k))**k/(-a*a**k*c*k**k + a*c*(a*(\\lambda*k**k)**(1/k))**k) + (\\lambda*k**k)**(1/k)*(a*(\\lambda*k**k)**(1/k))**k/(-a*a**k*c*k**k + a*c*(a*(\\lambda*k**k)**(1/k))**k))/(a*(-k/a + (\\lambda*k**k)**(1/k)/a)/k + 1),    -\\lambda*\\mu_H*a*(a*(-k/a + (\\lambda*k**k)**(1/k)/a)/k + 1)**(-k)*(-k*(a*(\\lambda*k**k)**(1/k))**k/(-a*a**k*c*k**k + a*c*(a*(\\lambda*k**k)**(1/k))**k) + (\\lambda*k**k)**(1/k)*(a*(\\lambda*k**k)**(1/k))**k/(-a*a**k*c*k**k + a*c*(a*(\\lambda*k**k)**(1/k))**k))/(2*(a*(-k/a + (\\lambda*k**k)**(1/k)/a)/k + 1))],\n",
       "[     \\lambda*\\mu_H*(a*(-k/a + (\\lambda*k**k)**(1/k)/a)/k + 1)**(-k)/2, \\lambda*(-\\mu_H + 1)*(a*(-k/a + (\\lambda*k**k)**(1/k)/a)/k + 1)**(-k),    -\\lambda*\\mu_H*a*(a*(-k/a + (\\lambda*k**k)**(1/k)/a)/k + 1)**(-k)*(-k*(a*(\\lambda*k**k)**(1/k))**k/(-a*a**k*c*k**k + a*c*(a*(\\lambda*k**k)**(1/k))**k) + (\\lambda*k**k)**(1/k)*(a*(\\lambda*k**k)**(1/k))**k/(-a*a**k*c*k**k + a*c*(a*(\\lambda*k**k)**(1/k))**k))/(2*(a*(-k/a + (\\lambda*k**k)**(1/k)/a)/k + 1)), -\\lambda*a*(-\\mu_H + 1)*(a*(-k/a + (\\lambda*k**k)**(1/k)/a)/k + 1)**(-k)*(-k*(a*(\\lambda*k**k)**(1/k))**k/(-a*a**k*c*k**k + a*c*(a*(\\lambda*k**k)**(1/k))**k) + (\\lambda*k**k)**(1/k)*(a*(\\lambda*k**k)**(1/k))**k/(-a*a**k*c*k**k + a*c*(a*(\\lambda*k**k)**(1/k))**k))/(a*(-k/a + (\\lambda*k**k)**(1/k)/a)/k + 1)],\n",
       "[c*(1 - (a*(-k/a + (\\lambda*k**k)**(1/k)/a)/k + 1)**(-k))*(-\\mu_P + 1),      \\mu_P*c*(1 - (a*(-k/a + (\\lambda*k**k)**(1/k)/a)/k + 1)**(-k))/2,        a*c*(-\\mu_P + 1)*(a*(-k/a + (\\lambda*k**k)**(1/k)/a)/k + 1)**(-k)*(-k*(a*(\\lambda*k**k)**(1/k))**k/(-a*a**k*c*k**k + a*c*(a*(\\lambda*k**k)**(1/k))**k) + (\\lambda*k**k)**(1/k)*(a*(\\lambda*k**k)**(1/k))**k/(-a*a**k*c*k**k + a*c*(a*(\\lambda*k**k)**(1/k))**k))/(a*(-k/a + (\\lambda*k**k)**(1/k)/a)/k + 1),           \\mu_P*a*c*(a*(-k/a + (\\lambda*k**k)**(1/k)/a)/k + 1)**(-k)*(-k*(a*(\\lambda*k**k)**(1/k))**k/(-a*a**k*c*k**k + a*c*(a*(\\lambda*k**k)**(1/k))**k) + (\\lambda*k**k)**(1/k)*(a*(\\lambda*k**k)**(1/k))**k/(-a*a**k*c*k**k + a*c*(a*(\\lambda*k**k)**(1/k))**k))/(2*(a*(-k/a + (\\lambda*k**k)**(1/k)/a)/k + 1))],\n",
       "[     \\mu_P*c*(1 - (a*(-k/a + (\\lambda*k**k)**(1/k)/a)/k + 1)**(-k))/2, c*(1 - (a*(-k/a + (\\lambda*k**k)**(1/k)/a)/k + 1)**(-k))*(-\\mu_P + 1),           \\mu_P*a*c*(a*(-k/a + (\\lambda*k**k)**(1/k)/a)/k + 1)**(-k)*(-k*(a*(\\lambda*k**k)**(1/k))**k/(-a*a**k*c*k**k + a*c*(a*(\\lambda*k**k)**(1/k))**k) + (\\lambda*k**k)**(1/k)*(a*(\\lambda*k**k)**(1/k))**k/(-a*a**k*c*k**k + a*c*(a*(\\lambda*k**k)**(1/k))**k))/(2*(a*(-k/a + (\\lambda*k**k)**(1/k)/a)/k + 1)),        a*c*(-\\mu_P + 1)*(a*(-k/a + (\\lambda*k**k)**(1/k)/a)/k + 1)**(-k)*(-k*(a*(\\lambda*k**k)**(1/k))**k/(-a*a**k*c*k**k + a*c*(a*(\\lambda*k**k)**(1/k))**k) + (\\lambda*k**k)**(1/k)*(a*(\\lambda*k**k)**(1/k))**k/(-a*a**k*c*k**k + a*c*(a*(\\lambda*k**k)**(1/k))**k))/(a*(-k/a + (\\lambda*k**k)**(1/k)/a)/k + 1)]])"
      ]
     },
     "execution_count": 23,
     "metadata": {},
     "output_type": "execute_result"
    }
   ],
   "source": [
    "model.A # Deterministic Jacobian evaluated at the equilibrium point."
   ]
  },
  {
   "cell_type": "code",
   "execution_count": 24,
   "metadata": {
    "collapsed": false
   },
   "outputs": [
    {
     "data": {
      "text/plain": [
       "Matrix([\n",
       "[\\lambda*(-\\mu_H + 1)*(a*(-k/a + (\\lambda*k**k)**(1/k)/a)/k + 1)**(-k)*(-k*(a*(\\lambda*k**k)**(1/k))**k/(-a*a**k*c*k**k + a*c*(a*(\\lambda*k**k)**(1/k))**k) + (\\lambda*k**k)**(1/k)*(a*(\\lambda*k**k)**(1/k))**k/(-a*a**k*c*k**k + a*c*(a*(\\lambda*k**k)**(1/k))**k)),      \\lambda*\\mu_H*(a*(-k/a + (\\lambda*k**k)**(1/k)/a)/k + 1)**(-k)*(-k*(a*(\\lambda*k**k)**(1/k))**k/(-a*a**k*c*k**k + a*c*(a*(\\lambda*k**k)**(1/k))**k) + (\\lambda*k**k)**(1/k)*(a*(\\lambda*k**k)**(1/k))**k/(-a*a**k*c*k**k + a*c*(a*(\\lambda*k**k)**(1/k))**k))/2,                                                                                                                                                                                                                                                                    0,                                                                                                                                                                                                                                                                    0],\n",
       "[     \\lambda*\\mu_H*(a*(-k/a + (\\lambda*k**k)**(1/k)/a)/k + 1)**(-k)*(-k*(a*(\\lambda*k**k)**(1/k))**k/(-a*a**k*c*k**k + a*c*(a*(\\lambda*k**k)**(1/k))**k) + (\\lambda*k**k)**(1/k)*(a*(\\lambda*k**k)**(1/k))**k/(-a*a**k*c*k**k + a*c*(a*(\\lambda*k**k)**(1/k))**k))/2, \\lambda*(-\\mu_H + 1)*(a*(-k/a + (\\lambda*k**k)**(1/k)/a)/k + 1)**(-k)*(-k*(a*(\\lambda*k**k)**(1/k))**k/(-a*a**k*c*k**k + a*c*(a*(\\lambda*k**k)**(1/k))**k) + (\\lambda*k**k)**(1/k)*(a*(\\lambda*k**k)**(1/k))**k/(-a*a**k*c*k**k + a*c*(a*(\\lambda*k**k)**(1/k))**k)),                                                                                                                                                                                                                                                                    0,                                                                                                                                                                                                                                                                    0],\n",
       "[                                                                                                                                                                                                                                                                   0,                                                                                                                                                                                                                                                                    0, c*(1 - (a*(-k/a + (\\lambda*k**k)**(1/k)/a)/k + 1)**(-k))*(-\\mu_P + 1)*(-k*(a*(\\lambda*k**k)**(1/k))**k/(-a*a**k*c*k**k + a*c*(a*(\\lambda*k**k)**(1/k))**k) + (\\lambda*k**k)**(1/k)*(a*(\\lambda*k**k)**(1/k))**k/(-a*a**k*c*k**k + a*c*(a*(\\lambda*k**k)**(1/k))**k)),      \\mu_P*c*(1 - (a*(-k/a + (\\lambda*k**k)**(1/k)/a)/k + 1)**(-k))*(-k*(a*(\\lambda*k**k)**(1/k))**k/(-a*a**k*c*k**k + a*c*(a*(\\lambda*k**k)**(1/k))**k) + (\\lambda*k**k)**(1/k)*(a*(\\lambda*k**k)**(1/k))**k/(-a*a**k*c*k**k + a*c*(a*(\\lambda*k**k)**(1/k))**k))/2],\n",
       "[                                                                                                                                                                                                                                                                   0,                                                                                                                                                                                                                                                                    0,      \\mu_P*c*(1 - (a*(-k/a + (\\lambda*k**k)**(1/k)/a)/k + 1)**(-k))*(-k*(a*(\\lambda*k**k)**(1/k))**k/(-a*a**k*c*k**k + a*c*(a*(\\lambda*k**k)**(1/k))**k) + (\\lambda*k**k)**(1/k)*(a*(\\lambda*k**k)**(1/k))**k/(-a*a**k*c*k**k + a*c*(a*(\\lambda*k**k)**(1/k))**k))/2, c*(1 - (a*(-k/a + (\\lambda*k**k)**(1/k)/a)/k + 1)**(-k))*(-\\mu_P + 1)*(-k*(a*(\\lambda*k**k)**(1/k))**k/(-a*a**k*c*k**k + a*c*(a*(\\lambda*k**k)**(1/k))**k) + (\\lambda*k**k)**(1/k)*(a*(\\lambda*k**k)**(1/k))**k/(-a*a**k*c*k**k + a*c*(a*(\\lambda*k**k)**(1/k))**k))]])"
      ]
     },
     "execution_count": 24,
     "metadata": {},
     "output_type": "execute_result"
    }
   ],
   "source": [
    "model.B # Stochastic Jacobian evaluated at the equilibrium point."
   ]
  },
  {
   "cell_type": "markdown",
   "metadata": {},
   "source": [
    "### Methods\n",
    "`StochasticModel` contains a few methods for calculating covariance, eigenvalues, the spectral matrix, and simulation results."
   ]
  },
  {
   "cell_type": "code",
   "execution_count": 34,
   "metadata": {
    "collapsed": false
   },
   "outputs": [
    {
     "name": "stdout",
     "output_type": "stream",
     "text": [
      "[[ 1.   0.5  0.   0. ]\n",
      " [ 0.5  1.   0.   0. ]\n",
      " [ 0.   0.   1.   0.5]\n",
      " [ 0.   0.   0.5  1. ]]\n",
      "{\\mu_P: 0.25, a: 1.0, \\mu_H: 0.25, c: 1.0, k: 0.5, \\lambda: 2.0}\n"
     ]
    }
   ],
   "source": [
    "params = dict(r=2.0, a=1.0, c=1.0, k=0.5, mh=0.25, mp=0.25)\n",
    "noiseparams = dict(SpSh=1, Chh=0.5, Cpp=0.5)\n",
    "\n",
    "# Simple helper for making noise covariance matrices.\n",
    "noise = utilities.noise_cov(noiseparams) \n",
    "\n",
    "# Converts text parameter names to sympy symbols.\n",
    "sym_params = models.parasitism.sym_params(params) \n",
    "\n",
    "print noise\n",
    "print sym_params"
   ]
  },
  {
   "cell_type": "markdown",
   "metadata": {},
   "source": [
    "#### Eigenvalues"
   ]
  },
  {
   "cell_type": "code",
   "execution_count": 48,
   "metadata": {
    "collapsed": false
   },
   "outputs": [
    {
     "data": {
      "text/plain": [
       "(array([ 0.6015625+0.46080507j,  0.6015625-0.46080507j,\n",
       "         0.4296875+0.32914648j,  0.4296875-0.32914648j]),\n",
       " array([[ 0.54772256 +0.00000000e+00j,  0.54772256 -0.00000000e+00j,\n",
       "         -0.54772256 +0.00000000e+00j, -0.54772256 -0.00000000e+00j],\n",
       "        [ 0.54772256 +6.38378239e-16j,  0.54772256 -6.38378239e-16j,\n",
       "          0.54772256 +8.60422844e-16j,  0.54772256 -8.60422844e-16j],\n",
       "        [ 0.22821773 -3.84599359e-01j,  0.22821773 +3.84599359e-01j,\n",
       "         -0.22821773 +3.84599359e-01j, -0.22821773 -3.84599359e-01j],\n",
       "        [ 0.22821773 -3.84599359e-01j,  0.22821773 +3.84599359e-01j,\n",
       "          0.22821773 -3.84599359e-01j,  0.22821773 +3.84599359e-01j]]))"
      ]
     },
     "execution_count": 48,
     "metadata": {},
     "output_type": "execute_result"
    }
   ],
   "source": [
    "model.calculate_eigenvalues(sym_params)"
   ]
  },
  {
   "cell_type": "markdown",
   "metadata": {},
   "source": [
    "##### Covariance\n",
    "There are two methods for calculating the model's covariance. One integrates the covariance from the analytic spectral matrix. The other is completely analytic and much faster."
   ]
  },
  {
   "cell_type": "code",
   "execution_count": 46,
   "metadata": {
    "collapsed": false
   },
   "outputs": [
    {
     "name": "stdout",
     "output_type": "stream",
     "text": [
      "0.287349s\n",
      "[[ 14.60445527  11.85520339   7.93934652   6.93348083]\n",
      " [ 11.85520339  14.60445527   6.93348083   7.93934652]\n",
      " [  7.93934652   6.93348083   5.94084378   5.12252853]\n",
      " [  6.93348083   7.93934652   5.12252853   5.94084378]]\n",
      "\n",
      "0.000717s\n",
      "[[ 14.60764234  11.85786537   4.09783558   3.65068681]\n",
      " [ 11.85786537  14.60764234   3.65068681   4.09783558]\n",
      " [  4.09783558   3.65068681   5.94208431   5.12363945]\n",
      " [  3.65068681   4.09783558   5.12363945   5.94208431]]\n"
     ]
    }
   ],
   "source": [
    "import timeit\n",
    "\n",
    "start_time = timeit.default_timer()\n",
    "cov1 = model.integrate_covariance_from_analytic_spectrum(sym_params, noise, nfreqs=4096)\n",
    "elapsed_1 = timeit.default_timer() - start_time\n",
    "\n",
    "start_time = timeit.default_timer()\n",
    "cov2 = model.calculate_covariance(sym_params, noise)\n",
    "elapsed_2 = timeit.default_timer() - start_time\n",
    "\n",
    "print '%fs' % elapsed_1\n",
    "print cov1\n",
    "print\n",
    "print '%fs' % elapsed_2\n",
    "print cov2"
   ]
  },
  {
   "cell_type": "markdown",
   "metadata": {},
   "source": [
    "#### Spectral matrix"
   ]
  },
  {
   "cell_type": "code",
   "execution_count": 52,
   "metadata": {
    "collapsed": false
   },
   "outputs": [
    {
     "data": {
      "text/plain": [
       "array([[ 23.97826365+0.j,  17.98392472+0.j,  11.17457108+0.j,\n",
       "          9.34842061+0.j],\n",
       "       [ 17.98392472+0.j,  23.97826365+0.j,   9.34842061+0.j,\n",
       "         11.17457108+0.j],\n",
       "       [ 11.17457108+0.j,   9.34842061+0.j,   7.95053105+0.j,\n",
       "          6.70874873+0.j],\n",
       "       [  9.34842061+0.j,  11.17457108+0.j,   6.70874873+0.j,\n",
       "          7.95053105+0.j]])"
      ]
     },
     "execution_count": 52,
     "metadata": {},
     "output_type": "execute_result"
    }
   ],
   "source": [
    "# Adjust v to change of input frequency at which to evaluate the spectral matrix (0 to 0.5)\n",
    "model.calculate_spectrum(sym_params, noise, v=0)"
   ]
  },
  {
   "cell_type": "markdown",
   "metadata": {},
   "source": [
    "#### Simulation\n",
    "See `test_cospectrum.py` and `test_covariance.py` for some examples of how to simulate population trajectories."
   ]
  },
  {
   "cell_type": "code",
   "execution_count": null,
   "metadata": {
    "collapsed": true
   },
   "outputs": [],
   "source": []
  }
 ],
 "metadata": {
  "kernelspec": {
   "display_name": "Python 2",
   "language": "python",
   "name": "python2"
  },
  "language_info": {
   "codemirror_mode": {
    "name": "ipython",
    "version": 2
   },
   "file_extension": ".py",
   "mimetype": "text/x-python",
   "name": "python",
   "nbconvert_exporter": "python",
   "pygments_lexer": "ipython2",
   "version": "2.7.9"
  }
 },
 "nbformat": 4,
 "nbformat_minor": 0
}
